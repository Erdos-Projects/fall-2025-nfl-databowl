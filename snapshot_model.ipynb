{
 "cells": [
  {
   "cell_type": "code",
   "execution_count": null,
   "id": "9adc2122",
   "metadata": {},
   "outputs": [],
   "source": [
    "import pandas as pd\n",
    "import matplotlib.pyplot as plt\n",
    "import numpy as np\n",
    "from tqdm.auto import tqdm\n",
    "import os\n",
    "import glob\n",
    "import seaborn as sns"
   ]
  },
  {
   "cell_type": "code",
   "execution_count": null,
   "id": "aa6d0142",
   "metadata": {},
   "outputs": [],
   "source": [
    "DATA_DIR = \"./data\"\n",
    "\n",
    "input_files = sorted(glob.glob(os.path.join(DATA_DIR, \"train/input_2023_w*.csv\")))\n",
    "output_files = sorted(glob.glob(os.path.join(DATA_DIR, \"train/output_2023_w*.csv\")))\n",
    "\n",
    "df_in = pd.concat((pd.read_csv(p) for p in tqdm(input_files, desc=\"loading inputs\")), ignore_index=True)\n",
    "df_out = pd.concat((pd.read_csv(p) for p in tqdm(output_files, desc=\"loading outputs\")), ignore_index=True)\n",
    "\n",
    "test_in = pd.read_csv(os.path.join(DATA_DIR, \"test_input.csv\"))\n",
    "test_template = pd.read_csv(os.path.join(DATA_DIR, \"test.csv\"))\n",
    "sample_submission = pd.read_csv(os.path.join(DATA_DIR, \"sample_submission.csv\"))\n",
    "\n",
    "print(\"Inputs:\", df_in.shape, \"Outputs:\", df_out.shape, \"Test input:\", test_in.shape)"
   ]
  },
  {
   "cell_type": "code",
   "execution_count": null,
   "id": "3684cae7",
   "metadata": {},
   "outputs": [],
   "source": [
    "final_frame = df_in.groupby(['game_id','play_id','nfl_id']).tail(1)\n",
    "player_predict_final = final_frame[final_frame['player_to_predict'] == True]\n",
    "player_predict_final = player_predict_final[['game_id','play_id','nfl_id','frame_id']]"
   ]
  },
  {
   "cell_type": "code",
   "execution_count": null,
   "id": "ab7d7ac4",
   "metadata": {},
   "outputs": [],
   "source": [
    "df_in = df_in.copy()  # avoid SettingWithCopyWarning\n",
    "\n",
    "is_final_frame = pd.MultiIndex.from_frame(df_in[['game_id','play_id','nfl_id','frame_id']]).isin(\n",
    "    pd.MultiIndex.from_frame(player_predict_final)\n",
    ")\n",
    "\n",
    "df_in['final_frame_prediction'] = np.where(is_final_frame, 1, 0)"
   ]
  },
  {
   "cell_type": "code",
   "execution_count": null,
   "id": "cffe86cb",
   "metadata": {},
   "outputs": [],
   "source": [
    "def feature_engineer(df):\n",
    "    '''Function taking in the input features / prethrow frames and computing relevant features up to the final prethrow frame'''\n",
    "    pass\n",
    "\n",
    "\n",
    "def merge_features(df):\n",
    "    '''merge snapshots with df_out for training'''\n",
    "    pass\n",
    "\n"
   ]
  },
  {
   "cell_type": "code",
   "execution_count": null,
   "id": "60e74d9c",
   "metadata": {},
   "outputs": [],
   "source": []
  }
 ],
 "metadata": {
  "kernelspec": {
   "display_name": "sports",
   "language": "python",
   "name": "python3"
  },
  "language_info": {
   "name": "python",
   "version": "3.11.13"
  }
 },
 "nbformat": 4,
 "nbformat_minor": 5
}
