{
 "cells": [
  {
   "cell_type": "code",
   "execution_count": 1,
   "id": "9adc2122",
   "metadata": {},
   "outputs": [],
   "source": [
    "import pandas as pd\n",
    "import matplotlib.pyplot as plt\n",
    "import numpy as np\n",
    "from tqdm.auto import tqdm\n",
    "import os\n",
    "import glob\n",
    "import seaborn as sns\n",
    "from sklearn.preprocessing import OneHotEncoder"
   ]
  },
  {
   "cell_type": "code",
   "execution_count": 2,
   "id": "aa6d0142",
   "metadata": {},
   "outputs": [
    {
     "data": {
      "application/vnd.jupyter.widget-view+json": {
       "model_id": "2e5a4c5aa4bd40a9a25ab6ac1e50d4cc",
       "version_major": 2,
       "version_minor": 0
      },
      "text/plain": [
       "loading inputs:   0%|          | 0/18 [00:00<?, ?it/s]"
      ]
     },
     "metadata": {},
     "output_type": "display_data"
    },
    {
     "data": {
      "application/vnd.jupyter.widget-view+json": {
       "model_id": "6c06fd7a93664bb3948d89649b4ddaf1",
       "version_major": 2,
       "version_minor": 0
      },
      "text/plain": [
       "loading outputs:   0%|          | 0/18 [00:00<?, ?it/s]"
      ]
     },
     "metadata": {},
     "output_type": "display_data"
    },
    {
     "name": "stdout",
     "output_type": "stream",
     "text": [
      "Inputs: (4880579, 23) Outputs: (562936, 6) Test input: (49753, 23)\n"
     ]
    }
   ],
   "source": [
    "DATA_DIR = \"./data\"\n",
    "\n",
    "input_files = sorted(glob.glob(os.path.join(DATA_DIR, \"train/input_2023_w*.csv\")))\n",
    "output_files = sorted(glob.glob(os.path.join(DATA_DIR, \"train/output_2023_w*.csv\")))\n",
    "\n",
    "df_in = pd.concat((pd.read_csv(p) for p in tqdm(input_files, desc=\"loading inputs\")), ignore_index=True)\n",
    "df_out = pd.concat((pd.read_csv(p) for p in tqdm(output_files, desc=\"loading outputs\")), ignore_index=True)\n",
    "\n",
    "test_in = pd.read_csv(os.path.join(DATA_DIR, \"test_input.csv\"))\n",
    "test_template = pd.read_csv(os.path.join(DATA_DIR, \"test.csv\"))\n",
    "sample_submission = pd.read_csv(os.path.join(DATA_DIR, \"sample_submission.csv\"))\n",
    "\n",
    "print(\"Inputs:\", df_in.shape, \"Outputs:\", df_out.shape, \"Test input:\", test_in.shape)"
   ]
  },
  {
   "cell_type": "code",
   "execution_count": 43,
   "id": "a33bc3af",
   "metadata": {},
   "outputs": [
    {
     "data": {
      "text/plain": [
       "Index(['game_id', 'play_id', 'player_to_predict', 'nfl_id', 'frame_id',\n",
       "       'play_direction', 'absolute_yardline_number', 'player_name',\n",
       "       'player_height', 'player_weight', 'player_birth_date',\n",
       "       'player_position', 'player_side', 'player_role', 'x', 'y', 's', 'a',\n",
       "       'dir', 'o', 'num_frames_output', 'ball_land_x', 'ball_land_y',\n",
       "       'final_frame_prediction'],\n",
       "      dtype='object')"
      ]
     },
     "execution_count": 43,
     "metadata": {},
     "output_type": "execute_result"
    }
   ],
   "source": [
    "df_in.columns"
   ]
  },
  {
   "cell_type": "code",
   "execution_count": 73,
   "id": "cffe86cb",
   "metadata": {},
   "outputs": [],
   "source": [
    "def feature_engineer(df_prethrow, alpha = 0.4, gcol: list = []):\n",
    "    '''Function taking in the input features / prethrow frames and computing relevant features up to the final prethrow frame'''\n",
    "    df = df_prethrow.copy()\n",
    "    df = df[df['player_to_predict']]\n",
    "    df['rolling_s_mean'] = (df.groupby(gcol)['s'].transform(lambda s: s.ewm(alpha=alpha, min_periods = 8).mean()))\n",
    "    df['rolling_a_mean'] = (df.groupby(gcol)['a'].transform(lambda s: s.ewm(alpha=alpha, min_periods = 8).mean()))\n",
    "    df['dx'] = np.abs(df['ball_land_x'] - df['x'])\n",
    "    df['dy'] = np.abs(df['ball_land_y'] - df['y'])\n",
    "    for i in range(1,9):\n",
    "        df[f\"dx_lag_{i}\"] = df.groupby(gcol)['dx'].shift(i)\n",
    "        df[f\"dy_lag_{i}\"] = df.groupby(gcol)['dy'].shift(i)\n",
    "\n",
    "    position_encoder = OneHotEncoder(sparse_output=False).set_output(transform=\"pandas\")\n",
    "    encoded_data = position_encoder.fit_transform(df[['player_position']])\n",
    "    \n",
    "    df_tot = pd.concat([df, encoded_data], axis=1)\n",
    "    df_snap = df_tot[df_tot['final_frame_prediction'] == 1]\n",
    "\n",
    "    df_snap.rename(columns={'x': 'prethrow_x', 'y': 'prethrow_y'})\n",
    "\n",
    "    return df_snap\n",
    "\n",
    "def merge_features(df_prethrow, df_postthrow ,gcol = []):\n",
    "    '''merge snapshots with df_out for training'''\n",
    "    df = pd.merge(df_postthrow, df_prethrow, on = gcol, how='left')\n",
    "    features = [\n",
    "        's', 'a',\n",
    "       'dir', 'o', 'ball_land_x', 'ball_land_y',\n",
    "       'final_frame_prediction', 'rolling_s_mean', 'rolling_a_mean', 'dx',\n",
    "       'dy', 'dx_lag_1', 'dy_lag_1', 'dx_lag_2', 'dy_lag_2', 'dx_lag_3',\n",
    "       'dy_lag_3', 'dx_lag_4', 'dy_lag_4', 'dx_lag_5', 'dy_lag_5', 'dx_lag_6',\n",
    "       'dy_lag_6', 'dx_lag_7', 'dy_lag_7', 'dx_lag_8', 'dy_lag_8','player_position_SS'\n",
    "    #    'player_position_CB', 'player_position_DE', 'player_position_DT',\n",
    "    #    'player_position_FB', 'player_position_FS', 'player_position_ILB',\n",
    "    #    'player_position_LB', 'player_position_MLB', 'player_position_NT',\n",
    "    #    'player_position_OLB', 'player_position_QB', 'player_position_RB',\n",
    "    #    'player_position_S', 'player_position_SS', 'player_position_T',\n",
    "    #    'player_position_TE', 'player_position_WR'\n",
    "    ]\n",
    "    cols_to_keep = list(df_postthrow.columns) + features\n",
    "\n",
    "    return df.columns\n"
   ]
  },
  {
   "cell_type": "code",
   "execution_count": 74,
   "id": "60e74d9c",
   "metadata": {},
   "outputs": [],
   "source": [
    "def main(df_prethrow, df_postthrow ):\n",
    "    df_prethrow = df_prethrow.copy()  # avoid SettingWithCopyWarning\n",
    "    df_postthrow = df_postthrow.copy()\n",
    "\n",
    "    gcol = ['game_id','play_id','nfl_id']\n",
    "\n",
    "    final_frame = df_prethrow.groupby(gcol).tail(1)\n",
    "    \n",
    "    player_predict_final = final_frame[final_frame['player_to_predict']]\n",
    "    player_predict_final = player_predict_final[gcol + ['frame_id']]\n",
    "\n",
    "    is_final_frame = pd.MultiIndex.from_frame(df_prethrow[['game_id','play_id','nfl_id','frame_id']]).isin(\n",
    "        pd.MultiIndex.from_frame(player_predict_final)\n",
    "    )\n",
    "\n",
    "    df_prethrow['final_frame_prediction'] = np.where(is_final_frame, 1, 0)\n",
    "\n",
    "    df_altered = feature_engineer(df_prethrow, alpha = 0.4, gcol=gcol)\n",
    "\n",
    "    df_model = merge_features(df_prethrow = df_altered ,df_postthrow = df_postthrow,gcol = gcol)\n",
    "\n",
    "    return df_model\n",
    "    \n"
   ]
  },
  {
   "cell_type": "code",
   "execution_count": 75,
   "id": "fca94f49",
   "metadata": {},
   "outputs": [],
   "source": [
    "x = df_in.loc[(df_in['game_id'] ==2023090700) & (df_in['play_id'] == 101) & (df_in['nfl_id'] == 46137), :]\n",
    "y = df_out.loc[(df_out['game_id'] ==2023090700) & (df_out['play_id'] == 101) & (df_out['nfl_id'] == 46137),:]"
   ]
  },
  {
   "cell_type": "code",
   "execution_count": 76,
   "id": "ffeeab35",
   "metadata": {},
   "outputs": [],
   "source": [
    "z = main(df_prethrow = x, df_postthrow = y)"
   ]
  },
  {
   "cell_type": "code",
   "execution_count": 77,
   "id": "9c9cb6c7",
   "metadata": {},
   "outputs": [
    {
     "data": {
      "text/plain": [
       "Index(['game_id', 'play_id', 'nfl_id', 'frame_id_x', 'x_x', 'y_x',\n",
       "       'player_to_predict', 'frame_id_y', 'play_direction',\n",
       "       'absolute_yardline_number', 'player_name', 'player_height',\n",
       "       'player_weight', 'player_birth_date', 'player_position', 'player_side',\n",
       "       'player_role', 'x_y', 'y_y', 's', 'a', 'dir', 'o', 'num_frames_output',\n",
       "       'ball_land_x', 'ball_land_y', 'final_frame_prediction',\n",
       "       'rolling_s_mean', 'rolling_a_mean', 'dx', 'dy', 'dx_lag_1', 'dy_lag_1',\n",
       "       'dx_lag_2', 'dy_lag_2', 'dx_lag_3', 'dy_lag_3', 'dx_lag_4', 'dy_lag_4',\n",
       "       'dx_lag_5', 'dy_lag_5', 'dx_lag_6', 'dy_lag_6', 'dx_lag_7', 'dy_lag_7',\n",
       "       'dx_lag_8', 'dy_lag_8', 'player_position_SS'],\n",
       "      dtype='object')"
      ]
     },
     "execution_count": 77,
     "metadata": {},
     "output_type": "execute_result"
    }
   ],
   "source": [
    "z"
   ]
  },
  {
   "cell_type": "code",
   "execution_count": 67,
   "id": "4e0cf85a",
   "metadata": {},
   "outputs": [
    {
     "data": {
      "text/html": [
       "<div>\n",
       "<style scoped>\n",
       "    .dataframe tbody tr th:only-of-type {\n",
       "        vertical-align: middle;\n",
       "    }\n",
       "\n",
       "    .dataframe tbody tr th {\n",
       "        vertical-align: top;\n",
       "    }\n",
       "\n",
       "    .dataframe thead th {\n",
       "        text-align: right;\n",
       "    }\n",
       "</style>\n",
       "<table border=\"1\" class=\"dataframe\">\n",
       "  <thead>\n",
       "    <tr style=\"text-align: right;\">\n",
       "      <th></th>\n",
       "      <th>game_id</th>\n",
       "      <th>play_id</th>\n",
       "      <th>nfl_id</th>\n",
       "      <th>frame_id</th>\n",
       "      <th>x</th>\n",
       "      <th>y</th>\n",
       "    </tr>\n",
       "  </thead>\n",
       "  <tbody>\n",
       "    <tr>\n",
       "      <th>0</th>\n",
       "      <td>2023090700</td>\n",
       "      <td>101</td>\n",
       "      <td>46137</td>\n",
       "      <td>1</td>\n",
       "      <td>56.22</td>\n",
       "      <td>17.28</td>\n",
       "    </tr>\n",
       "    <tr>\n",
       "      <th>1</th>\n",
       "      <td>2023090700</td>\n",
       "      <td>101</td>\n",
       "      <td>46137</td>\n",
       "      <td>2</td>\n",
       "      <td>56.63</td>\n",
       "      <td>16.88</td>\n",
       "    </tr>\n",
       "    <tr>\n",
       "      <th>2</th>\n",
       "      <td>2023090700</td>\n",
       "      <td>101</td>\n",
       "      <td>46137</td>\n",
       "      <td>3</td>\n",
       "      <td>57.06</td>\n",
       "      <td>16.46</td>\n",
       "    </tr>\n",
       "    <tr>\n",
       "      <th>3</th>\n",
       "      <td>2023090700</td>\n",
       "      <td>101</td>\n",
       "      <td>46137</td>\n",
       "      <td>4</td>\n",
       "      <td>57.48</td>\n",
       "      <td>16.02</td>\n",
       "    </tr>\n",
       "    <tr>\n",
       "      <th>4</th>\n",
       "      <td>2023090700</td>\n",
       "      <td>101</td>\n",
       "      <td>46137</td>\n",
       "      <td>5</td>\n",
       "      <td>57.91</td>\n",
       "      <td>15.56</td>\n",
       "    </tr>\n",
       "    <tr>\n",
       "      <th>...</th>\n",
       "      <td>...</td>\n",
       "      <td>...</td>\n",
       "      <td>...</td>\n",
       "      <td>...</td>\n",
       "      <td>...</td>\n",
       "      <td>...</td>\n",
       "    </tr>\n",
       "    <tr>\n",
       "      <th>562931</th>\n",
       "      <td>2024010713</td>\n",
       "      <td>4018</td>\n",
       "      <td>52457</td>\n",
       "      <td>14</td>\n",
       "      <td>30.99</td>\n",
       "      <td>10.51</td>\n",
       "    </tr>\n",
       "    <tr>\n",
       "      <th>562932</th>\n",
       "      <td>2024010713</td>\n",
       "      <td>4018</td>\n",
       "      <td>52457</td>\n",
       "      <td>15</td>\n",
       "      <td>30.78</td>\n",
       "      <td>9.73</td>\n",
       "    </tr>\n",
       "    <tr>\n",
       "      <th>562933</th>\n",
       "      <td>2024010713</td>\n",
       "      <td>4018</td>\n",
       "      <td>52457</td>\n",
       "      <td>16</td>\n",
       "      <td>30.63</td>\n",
       "      <td>8.93</td>\n",
       "    </tr>\n",
       "    <tr>\n",
       "      <th>562934</th>\n",
       "      <td>2024010713</td>\n",
       "      <td>4018</td>\n",
       "      <td>52457</td>\n",
       "      <td>17</td>\n",
       "      <td>30.52</td>\n",
       "      <td>8.12</td>\n",
       "    </tr>\n",
       "    <tr>\n",
       "      <th>562935</th>\n",
       "      <td>2024010713</td>\n",
       "      <td>4018</td>\n",
       "      <td>52457</td>\n",
       "      <td>18</td>\n",
       "      <td>30.45</td>\n",
       "      <td>7.30</td>\n",
       "    </tr>\n",
       "  </tbody>\n",
       "</table>\n",
       "<p>562936 rows × 6 columns</p>\n",
       "</div>"
      ],
      "text/plain": [
       "           game_id  play_id  nfl_id  frame_id      x      y\n",
       "0       2023090700      101   46137         1  56.22  17.28\n",
       "1       2023090700      101   46137         2  56.63  16.88\n",
       "2       2023090700      101   46137         3  57.06  16.46\n",
       "3       2023090700      101   46137         4  57.48  16.02\n",
       "4       2023090700      101   46137         5  57.91  15.56\n",
       "...            ...      ...     ...       ...    ...    ...\n",
       "562931  2024010713     4018   52457        14  30.99  10.51\n",
       "562932  2024010713     4018   52457        15  30.78   9.73\n",
       "562933  2024010713     4018   52457        16  30.63   8.93\n",
       "562934  2024010713     4018   52457        17  30.52   8.12\n",
       "562935  2024010713     4018   52457        18  30.45   7.30\n",
       "\n",
       "[562936 rows x 6 columns]"
      ]
     },
     "execution_count": 67,
     "metadata": {},
     "output_type": "execute_result"
    }
   ],
   "source": [
    "df_out"
   ]
  },
  {
   "cell_type": "code",
   "execution_count": 61,
   "id": "f6b6b159",
   "metadata": {},
   "outputs": [
    {
     "data": {
      "text/plain": [
       "Index(['game_id', 'play_id', 'nfl_id', 'frame_id_x', 'x_x', 'y_x',\n",
       "       'player_to_predict', 'frame_id_y', 'play_direction',\n",
       "       'absolute_yardline_number', 'player_name', 'player_height',\n",
       "       'player_weight', 'player_birth_date', 'player_position', 'player_side',\n",
       "       'player_role', 'x_y', 'y_y', 's', 'a', 'dir', 'o', 'num_frames_output',\n",
       "       'ball_land_x', 'ball_land_y', 'final_frame_prediction',\n",
       "       'rolling_s_mean', 'rolling_a_mean', 'dx', 'dy', 'dx_lag_1', 'dy_lag_1',\n",
       "       'dx_lag_2', 'dy_lag_2', 'dx_lag_3', 'dy_lag_3', 'dx_lag_4', 'dy_lag_4',\n",
       "       'dx_lag_5', 'dy_lag_5', 'dx_lag_6', 'dy_lag_6', 'dx_lag_7', 'dy_lag_7',\n",
       "       'dx_lag_8', 'dy_lag_8', 'player_position_SS'],\n",
       "      dtype='object')"
      ]
     },
     "execution_count": 61,
     "metadata": {},
     "output_type": "execute_result"
    }
   ],
   "source": [
    "z"
   ]
  },
  {
   "cell_type": "code",
   "execution_count": 70,
   "id": "bfe51c54",
   "metadata": {},
   "outputs": [
    {
     "name": "stdout",
     "output_type": "stream",
     "text": [
      "   color_blue  color_green  color_red\n",
      "0         0.0          0.0        1.0\n",
      "1         1.0          0.0        0.0\n",
      "2         0.0          1.0        0.0\n",
      "3         0.0          0.0        1.0\n"
     ]
    }
   ],
   "source": [
    "data = pd.DataFrame({'color': ['red', 'blue', 'green', 'red']})\n",
    "encoder = OneHotEncoder(sparse_output=False).set_output(transform=\"pandas\")\n",
    "encoded_data = encoder.fit_transform(data[['color']])\n",
    "print(encoded_data)"
   ]
  },
  {
   "cell_type": "code",
   "execution_count": null,
   "id": "25b453fb",
   "metadata": {},
   "outputs": [],
   "source": [
    "#if in a comfortable spot in the project try to seperate model files from data cleaning/ transform to readibility and conciseness of the file "
   ]
  }
 ],
 "metadata": {
  "kernelspec": {
   "display_name": "sports",
   "language": "python",
   "name": "python3"
  },
  "language_info": {
   "codemirror_mode": {
    "name": "ipython",
    "version": 3
   },
   "file_extension": ".py",
   "mimetype": "text/x-python",
   "name": "python",
   "nbconvert_exporter": "python",
   "pygments_lexer": "ipython3",
   "version": "3.11.13"
  }
 },
 "nbformat": 4,
 "nbformat_minor": 5
}
